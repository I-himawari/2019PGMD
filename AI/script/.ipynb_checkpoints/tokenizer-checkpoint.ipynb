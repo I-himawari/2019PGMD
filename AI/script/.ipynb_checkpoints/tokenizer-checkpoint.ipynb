{
 "cells": [
  {
   "cell_type": "markdown",
   "metadata": {},
   "source": [
    "# 自然言語処理の一連の流れ\n",
    "\n",
    "  1. Tokenizer（形態素解析）をし、文章をfastTextで解析出来る形へと変換する。\n",
    "  2. fastTextで文章データをベクトル化（複数の数字に変換すること）する。\n",
    "  3. ベクトル化した文章データを、学習器（今回はディープラーニングを使用する）で処理させる。"
   ]
  },
  {
   "cell_type": "markdown",
   "metadata": {},
   "source": [
    "# 目的\n",
    "\n",
    "Tokenizerしたデータを保存する\n",
    "以下を残す\n",
    "\n",
    "  * 再生数\n",
    "  * コメント数\n",
    "  * マイリスト数\n",
    "  * 動画タイトル"
   ]
  },
  {
   "cell_type": "code",
   "execution_count": null,
   "metadata": {},
   "outputs": [],
   "source": [
    "import numpy as np\n",
    "import pandas as pd"
   ]
  },
  {
   "cell_type": "code",
   "execution_count": null,
   "metadata": {},
   "outputs": [],
   "source": [
    "from janome.tokenizer import Tokenizer\n",
    "\n",
    "t = Tokenizer()\n",
    "\n",
    "s = 'すもももももももものうち'\n",
    "\n",
    "for token in t.tokenize(s):\n",
    "    print(token)"
   ]
  },
  {
   "cell_type": "code",
   "execution_count": null,
   "metadata": {},
   "outputs": [],
   "source": [
    "for token in t.tokenize('需要あるでしょうか。セガサターン SEGA', wakati=True):\n",
    "    print(token)"
   ]
  }
 ],
 "metadata": {
  "kernelspec": {
   "display_name": "Python 3",
   "language": "python",
   "name": "python3"
  },
  "language_info": {
   "codemirror_mode": {
    "name": "ipython",
    "version": 3
   },
   "file_extension": ".py",
   "mimetype": "text/x-python",
   "name": "python",
   "nbconvert_exporter": "python",
   "pygments_lexer": "ipython3",
   "version": "3.7.3"
  }
 },
 "nbformat": 4,
 "nbformat_minor": 2
}
