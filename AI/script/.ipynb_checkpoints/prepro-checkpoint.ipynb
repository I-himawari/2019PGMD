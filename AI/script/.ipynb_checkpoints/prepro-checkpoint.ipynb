{
 "cells": [
  {
   "cell_type": "code",
   "execution_count": 1,
   "metadata": {},
   "outputs": [],
   "source": [
    "import numpy as np\n",
    "import pandas as pd"
   ]
  },
  {
   "cell_type": "code",
   "execution_count": 2,
   "metadata": {},
   "outputs": [],
   "source": [
    "import glob\n",
    "g = glob.glob(\"video/*.jsonl\")"
   ]
  },
  {
   "cell_type": "code",
   "execution_count": 3,
   "metadata": {},
   "outputs": [],
   "source": [
    "g = g[1:100]"
   ]
  },
  {
   "cell_type": "code",
   "execution_count": 4,
   "metadata": {},
   "outputs": [
    {
     "name": "stderr",
     "output_type": "stream",
     "text": [
      "100%|███████████████████████████████████████████████████████████████████████████████████████████████████████████████████████████████████████████████████████████████████████████████████████████████████████| 99/99 [00:15<00:00,  5.24it/s]\n"
     ]
    }
   ],
   "source": [
    "from tqdm import tqdm  # tqdm_notebook as tqdm\n",
    "\n",
    "desc_list = []\n",
    "watch_list = []\n",
    "df_list = []\n",
    "for p in tqdm(g):\n",
    "    try:\n",
    "        df = pd.read_json(p, orient='records', lines=True, encoding='utf8')\n",
    "        desc_list += list(df[\"title\"])\n",
    "        watch_list += list(df[\"watch_num\"])\n",
    "    except:\n",
    "        pass"
   ]
  },
  {
   "cell_type": "code",
   "execution_count": 5,
   "metadata": {},
   "outputs": [],
   "source": [
    "df_list = pd.concat(df_list)"
   ]
  },
  {
   "cell_type": "code",
   "execution_count": 6,
   "metadata": {},
   "outputs": [
    {
     "data": {
      "text/html": [
       "<div>\n",
       "<style scoped>\n",
       "    .dataframe tbody tr th:only-of-type {\n",
       "        vertical-align: middle;\n",
       "    }\n",
       "\n",
       "    .dataframe tbody tr th {\n",
       "        vertical-align: top;\n",
       "    }\n",
       "\n",
       "    .dataframe thead th {\n",
       "        text-align: right;\n",
       "    }\n",
       "</style>\n",
       "<table border=\"1\" class=\"dataframe\">\n",
       "  <thead>\n",
       "    <tr style=\"text-align: right;\">\n",
       "      <th></th>\n",
       "      <th>category</th>\n",
       "      <th>comment_num</th>\n",
       "      <th>description</th>\n",
       "      <th>file_type</th>\n",
       "      <th>length</th>\n",
       "      <th>mylist_num</th>\n",
       "      <th>size_high</th>\n",
       "      <th>size_low</th>\n",
       "      <th>tags</th>\n",
       "      <th>title</th>\n",
       "      <th>upload_time</th>\n",
       "      <th>video_id</th>\n",
       "      <th>watch_num</th>\n",
       "    </tr>\n",
       "  </thead>\n",
       "  <tbody>\n",
       "    <tr>\n",
       "      <th>0</th>\n",
       "      <td>None</td>\n",
       "      <td>4381</td>\n",
       "      <td>主題歌「ラブリー☆えんじぇる！！」&lt;br /&gt;ave;new feat.あべにゅうぷろじぇく...</td>\n",
       "      <td>flv</td>\n",
       "      <td>205</td>\n",
       "      <td>7253</td>\n",
       "      <td>31412177</td>\n",
       "      <td>10988705</td>\n",
       "      <td>[ave;new, maimai収録曲, あべにゅうぷろじぇくと, ラブリー☆えんじぇる!!...</td>\n",
       "      <td>快盗天使　ツインエンジェル FullSizeVersion （C)TRIVY</td>\n",
       "      <td>2007-03-07 16:41:13</td>\n",
       "      <td>sm12031</td>\n",
       "      <td>378544</td>\n",
       "    </tr>\n",
       "    <tr>\n",
       "      <th>1</th>\n",
       "      <td>None</td>\n",
       "      <td>75</td>\n",
       "      <td>需要あるでしょうか。セガサターン SEGA</td>\n",
       "      <td>flv</td>\n",
       "      <td>396</td>\n",
       "      <td>1</td>\n",
       "      <td>18097504</td>\n",
       "      <td>17811513</td>\n",
       "      <td>[SEGA, ゲーム, セガ, セガサターン, セガ実写シリーズ, フっくん, ワンチャイコ...</td>\n",
       "      <td>セガ サターン ワンチャイコネクション</td>\n",
       "      <td>2007-03-10 08:22:14</td>\n",
       "      <td>sm19807</td>\n",
       "      <td>2585</td>\n",
       "    </tr>\n",
       "    <tr>\n",
       "      <th>2</th>\n",
       "      <td>None</td>\n",
       "      <td>197</td>\n",
       "      <td>無断転載です。ごめんもやしもん。(;＞_＜;)</td>\n",
       "      <td>flv</td>\n",
       "      <td>111</td>\n",
       "      <td>16</td>\n",
       "      <td>4640805</td>\n",
       "      <td>4547669</td>\n",
       "      <td>[im@sコミュ, moyasi, アイドルマスター, プランA, プランA・1→2, プラ...</td>\n",
       "      <td>プランA　第2話　moyasi アイドルマスター　idolm@ster</td>\n",
       "      <td>2007-03-07 23:53:11</td>\n",
       "      <td>sm12736</td>\n",
       "      <td>11127</td>\n",
       "    </tr>\n",
       "    <tr>\n",
       "      <th>3</th>\n",
       "      <td>None</td>\n",
       "      <td>159</td>\n",
       "      <td>勇ましすぎてワラタｗｗ</td>\n",
       "      <td>flv</td>\n",
       "      <td>10</td>\n",
       "      <td>182</td>\n",
       "      <td>427942</td>\n",
       "      <td>427666</td>\n",
       "      <td>[CTC, チバニアン, ニュース情報番組OP, 千葉テレビ, 千葉日報, 千葉日報ニュース...</td>\n",
       "      <td>千葉日報オープニング</td>\n",
       "      <td>2007-03-08 07:36:17</td>\n",
       "      <td>sm13474</td>\n",
       "      <td>30677</td>\n",
       "    </tr>\n",
       "    <tr>\n",
       "      <th>4</th>\n",
       "      <td>None</td>\n",
       "      <td>21</td>\n",
       "      <td>やったー＼(＾o＾)／</td>\n",
       "      <td>flv</td>\n",
       "      <td>28</td>\n",
       "      <td>11</td>\n",
       "      <td>1020434</td>\n",
       "      <td>1003600</td>\n",
       "      <td>[null]</td>\n",
       "      <td>1998年Ｗ杯初出場決定＼(＾o＾)／</td>\n",
       "      <td>2007-03-09 07:24:57</td>\n",
       "      <td>sm16435</td>\n",
       "      <td>3839</td>\n",
       "    </tr>\n",
       "  </tbody>\n",
       "</table>\n",
       "</div>"
      ],
      "text/plain": [
       "  category  comment_num                                        description  \\\n",
       "0     None         4381  主題歌「ラブリー☆えんじぇる！！」<br />ave;new feat.あべにゅうぷろじぇく...   \n",
       "1     None           75                              需要あるでしょうか。セガサターン SEGA   \n",
       "2     None          197                            無断転載です。ごめんもやしもん。(;＞_＜;)   \n",
       "3     None          159                                        勇ましすぎてワラタｗｗ   \n",
       "4     None           21                                        やったー＼(＾o＾)／   \n",
       "\n",
       "  file_type  length  mylist_num  size_high  size_low  \\\n",
       "0       flv     205        7253   31412177  10988705   \n",
       "1       flv     396           1   18097504  17811513   \n",
       "2       flv     111          16    4640805   4547669   \n",
       "3       flv      10         182     427942    427666   \n",
       "4       flv      28          11    1020434   1003600   \n",
       "\n",
       "                                                tags  \\\n",
       "0  [ave;new, maimai収録曲, あべにゅうぷろじぇくと, ラブリー☆えんじぇる!!...   \n",
       "1  [SEGA, ゲーム, セガ, セガサターン, セガ実写シリーズ, フっくん, ワンチャイコ...   \n",
       "2  [im@sコミュ, moyasi, アイドルマスター, プランA, プランA・1→2, プラ...   \n",
       "3  [CTC, チバニアン, ニュース情報番組OP, 千葉テレビ, 千葉日報, 千葉日報ニュース...   \n",
       "4                                             [null]   \n",
       "\n",
       "                                    title         upload_time video_id  \\\n",
       "0  快盗天使　ツインエンジェル FullSizeVersion （C)TRIVY 2007-03-07 16:41:13  sm12031   \n",
       "1                     セガ サターン ワンチャイコネクション 2007-03-10 08:22:14  sm19807   \n",
       "2     プランA　第2話　moyasi アイドルマスター　idolm@ster 2007-03-07 23:53:11  sm12736   \n",
       "3                              千葉日報オープニング 2007-03-08 07:36:17  sm13474   \n",
       "4                     1998年Ｗ杯初出場決定＼(＾o＾)／ 2007-03-09 07:24:57  sm16435   \n",
       "\n",
       "   watch_num  \n",
       "0     378544  \n",
       "1       2585  \n",
       "2      11127  \n",
       "3      30677  \n",
       "4       3839  "
      ]
     },
     "execution_count": 6,
     "metadata": {},
     "output_type": "execute_result"
    }
   ],
   "source": [
    "df_list.head()"
   ]
  },
  {
   "cell_type": "code",
   "execution_count": 8,
   "metadata": {},
   "outputs": [],
   "source": [
    "df_list.to_csv(\"movie.csv\", index=False)"
   ]
  }
 ],
 "metadata": {
  "kernelspec": {
   "display_name": "Python 3",
   "language": "python",
   "name": "python3"
  },
  "language_info": {
   "codemirror_mode": {
    "name": "ipython",
    "version": 3
   },
   "file_extension": ".py",
   "mimetype": "text/x-python",
   "name": "python",
   "nbconvert_exporter": "python",
   "pygments_lexer": "ipython3",
   "version": "3.7.3"
  }
 },
 "nbformat": 4,
 "nbformat_minor": 2
}
