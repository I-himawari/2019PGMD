{
 "cells": [
  {
   "cell_type": "markdown",
   "metadata": {
    "colab_type": "text",
    "id": "yeu5I6FVzXzs"
   },
   "source": [
    "# 日本語の分析\n",
    "\n",
    "人気　日本語分析　抽出\n",
    "関連ワード検出\n",
    "\n",
    "\n",
    "今回は、以下のライブラリを使用する。\n",
    "\n",
    "  * Gensim\n",
    "  * fastText\n",
    "  * Janome\n",
    "  \n",
    "## fastText\n",
    "\n",
    "類似語をまとめる"
   ]
  },
  {
   "cell_type": "code",
   "execution_count": 1,
   "metadata": {
    "colab": {
     "base_uri": "https://localhost:8080/",
     "height": 204
    },
    "colab_type": "code",
    "id": "rpOY3XvMsNDp",
    "outputId": "dbb3bac4-9789-4534-9bf1-e6f4fdad599d"
   },
   "outputs": [
    {
     "name": "stdout",
     "output_type": "stream",
     "text": [
      "--2019-09-24 07:31:24--  https://dl.fbaipublicfiles.com/fasttext/vectors-crawl/cc.ja.300.vec.gz\n",
      "Resolving dl.fbaipublicfiles.com (dl.fbaipublicfiles.com)... 104.20.6.166, 104.20.22.166, 2606:4700:10::6814:16a6, ...\n",
      "Connecting to dl.fbaipublicfiles.com (dl.fbaipublicfiles.com)|104.20.6.166|:443... connected.\n",
      "HTTP request sent, awaiting response... 200 OK\n",
      "Length: 1279641604 (1.2G) [binary/octet-stream]\n",
      "Saving to: ‘cc.ja.300.vec.gz’\n",
      "\n",
      "cc.ja.300.vec.gz    100%[===================>]   1.19G  36.5MB/s    in 34s     \n",
      "\n",
      "2019-09-24 07:32:03 (36.0 MB/s) - ‘cc.ja.300.vec.gz’ saved [1279641604/1279641604]\n",
      "\n"
     ]
    }
   ],
   "source": [
    "!wget  https://dl.fbaipublicfiles.com/fasttext/vectors-crawl/cc.ja.300.vec.gz\n",
    "  \n",
    "!gzip -d cc.ja.300.vec.gz"
   ]
  },
  {
   "cell_type": "code",
   "execution_count": 2,
   "metadata": {
    "colab": {
     "base_uri": "https://localhost:8080/",
     "height": 71
    },
    "colab_type": "code",
    "id": "OFbbIUuasWzp",
    "outputId": "9ca4e2af-3427-4261-87ad-322c0bd9ef66"
   },
   "outputs": [
    {
     "name": "stderr",
     "output_type": "stream",
     "text": [
      "/usr/local/lib/python3.6/dist-packages/smart_open/smart_open_lib.py:398: UserWarning: This function is deprecated, use smart_open.open instead. See the migration notes for details: https://github.com/RaRe-Technologies/smart_open/blob/master/README.rst#migrating-to-the-new-open-function\n",
      "  'See the migration notes for details: %s' % _MIGRATION_NOTES_URL\n"
     ]
    }
   ],
   "source": [
    "import gensim\n",
    "model = gensim.models.KeyedVectors.load_word2vec_format('cc.ja.300.vec')"
   ]
  },
  {
   "cell_type": "code",
   "execution_count": 3,
   "metadata": {
    "colab": {
     "base_uri": "https://localhost:8080/",
     "height": 1000
    },
    "colab_type": "code",
    "id": "AAAV2xmavd6A",
    "outputId": "1e27b6c6-728d-4147-8112-5d4abc21c6a1"
   },
   "outputs": [
    {
     "name": "stderr",
     "output_type": "stream",
     "text": [
      "/usr/local/lib/python3.6/dist-packages/gensim/matutils.py:737: FutureWarning: Conversion of the second argument of issubdtype from `int` to `np.signedinteger` is deprecated. In future, it will be treated as `np.int64 == np.dtype(int).type`.\n",
      "  if np.issubdtype(vec.dtype, np.int):\n"
     ]
    },
    {
     "data": {
      "text/plain": [
       "[('NTEM', 0.6082519888877869),\n",
       " ('DJRN', 0.5729714035987854),\n",
       " ('アレガッツポーズ', 0.5491494536399841),\n",
       " ('アレホラー', 0.5427780151367188),\n",
       " ('ザ・ラチ', 0.5348132848739624),\n",
       " ('KBTITkodax', 0.5334259271621704),\n",
       " ('アレミュージカル', 0.5326730608940125),\n",
       " ('KMRMUR', 0.5233907103538513),\n",
       " ('KBTITBB', 0.5220916867256165),\n",
       " ('タネビ', 0.5213767290115356),\n",
       " ('ホラホラーマン', 0.5203395485877991),\n",
       " ('MSZE', 0.5199059844017029),\n",
       " ('インムトリー', 0.5162180662155151),\n",
       " ('ホモコロリ', 0.5126463174819946),\n",
       " ('リンクノンケ', 0.5121652483940125),\n",
       " ('イキスギロボ', 0.5109164714813232),\n",
       " ('ホモビィ', 0.5104806423187256),\n",
       " ('bksm', 0.5045828819274902),\n",
       " ('タドコロイド', 0.5042500495910645),\n",
       " ('アレホモガキ', 0.503821611404419),\n",
       " ('MURKMR', 0.5006275177001953),\n",
       " ('FFSNJ', 0.49876919388771057),\n",
       " ('ロリホモ', 0.4971528649330139),\n",
       " ('びでぽろぽろ', 0.4963664710521698),\n",
       " ('アニメノンケ', 0.49535784125328064),\n",
       " ('HRHKN', 0.4943397641181946),\n",
       " ('レスリングシリーズノンケ', 0.4938984513282776),\n",
       " ('レスリングシリーズケモナー', 0.4923741817474365),\n",
       " ('KRKNTN', 0.49218112230300903),\n",
       " ('シリーズノンケ', 0.4919343590736389),\n",
       " ('アレノムリッシュ', 0.4879375994205475),\n",
       " ('ｶﾝﾉﾐﾎ', 0.4865082800388336),\n",
       " ('Unty', 0.48609766364097595),\n",
       " ('クソツヨオレンジ', 0.4846307337284088),\n",
       " ('ポケモンポジモン', 0.4845654368400574),\n",
       " ('ピネガキ', 0.4825347363948822),\n",
       " ('zyamu', 0.4814532399177551),\n",
       " ('ウンチーコング', 0.48077183961868286),\n",
       " ('トオノ', 0.47835996747016907),\n",
       " ('TDNTNOK', 0.4760107398033142),\n",
       " ('アレケモナー', 0.47524333000183105),\n",
       " ('ホモファーレ', 0.4745292365550995),\n",
       " ('ワカサギィ', 0.4745222330093384),\n",
       " ('ゲイタクヤ', 0.4743068814277649),\n",
       " ('BJBJ', 0.4742591381072998),\n",
       " ('ONDISK', 0.47394847869873047),\n",
       " ('ウィヒ', 0.4736696481704712),\n",
       " ('ホモヘイヘ', 0.4714255928993225),\n",
       " ('ホムビ', 0.4709421992301941),\n",
       " ('インタビューシリーズブッチッパ', 0.46872496604919434),\n",
       " ('アレスマブラ', 0.4683971405029297),\n",
       " ('bigyajue', 0.4683641791343689),\n",
       " ('煌都', 0.4677421450614929),\n",
       " ('サマヨイ', 0.46740877628326416),\n",
       " ('ホモビ', 0.4673038721084595),\n",
       " ('タドキュラ', 0.4666706621646881),\n",
       " ('シリアナルキラー', 0.4666394889354706),\n",
       " ('RUDK', 0.4661928415298462),\n",
       " ('ホモコースト', 0.4661034941673279),\n",
       " ('オシャレクッキー', 0.4660932421684265),\n",
       " ('カンノミホ', 0.46565020084381104),\n",
       " ('IceFishing', 0.46559542417526245),\n",
       " ('ｵｫﾝ', 0.4653688073158264),\n",
       " ('シリーズパタポン', 0.4650450050830841),\n",
       " ('TRsm', 0.46435433626174927),\n",
       " ('インタビューシリーズショートコント', 0.4641900956630707),\n",
       " ('ケツデカピングー', 0.4639781415462494),\n",
       " ('タニオカート', 0.4636828303337097),\n",
       " ('ウルフケモナー', 0.46260005235671997),\n",
       " ('EXVSFBFB', 0.4624643921852112),\n",
       " ('ＫＢＴＩＴ', 0.462283194065094),\n",
       " ('シリーズエロゲ', 0.4621400535106659),\n",
       " ('ＫＭＮ', 0.4619070589542389),\n",
       " ('KANAGI', 0.46189308166503906),\n",
       " ('シリーズマジメ', 0.4612031579017639),\n",
       " ('OBKT', 0.46090954542160034),\n",
       " ('ひりだせ', 0.4608226418495178),\n",
       " ('EXVSFBBB', 0.46080103516578674),\n",
       " ('カンノミホーク', 0.45962756872177124),\n",
       " ('アレニコ', 0.4581947922706604),\n",
       " ('TNOKTDN', 0.4565674662590027),\n",
       " ('イキスギター', 0.45644378662109375),\n",
       " ('オディミー', 0.45635080337524414),\n",
       " ('アレアニメ', 0.45630350708961487),\n",
       " ('マヌヤシ', 0.4558519423007965),\n",
       " ('パコラッシュ', 0.4551598131656647),\n",
       " ('シキュメール', 0.45490700006484985),\n",
       " ('ダイナソ', 0.45358240604400635),\n",
       " ('ピンキーホラー', 0.4535112977027893),\n",
       " ('ｷｿフリースタイル', 0.45302093029022217),\n",
       " ('アレダウニー', 0.45164501667022705),\n",
       " ('ﾌﾞｯﾁｯﾊﾟ', 0.4509841203689575),\n",
       " ('ターラッタ', 0.450890451669693),\n",
       " ('KBTIT', 0.4506645202636719),\n",
       " ('シリーズラストオブアス', 0.45051872730255127),\n",
       " ('儲淫', 0.44859105348587036),\n",
       " ('デデドン', 0.44837653636932373),\n",
       " ('アレヒトリノ', 0.4479180872440338),\n",
       " ('HZMKNPI', 0.4476602077484131),\n",
       " ('NTUY', 0.4474610686302185)]"
      ]
     },
     "execution_count": 3,
     "metadata": {
      "tags": []
     },
     "output_type": "execute_result"
    }
   ],
   "source": [
    "similar = model.most_similar(positive=['淫夢'], negative=[], topn=100)\n",
    "similar"
   ]
  },
  {
   "cell_type": "code",
   "execution_count": 4,
   "metadata": {
    "colab": {
     "base_uri": "https://localhost:8080/",
     "height": 102
    },
    "colab_type": "code",
    "id": "-OGkyez7yuSb",
    "outputId": "c3db226d-7165-4ec3-fcfa-1cc30d9efa82"
   },
   "outputs": [
    {
     "name": "stdout",
     "output_type": "stream",
     "text": [
      "Collecting janome\n",
      "\u001b[?25l  Downloading https://files.pythonhosted.org/packages/a7/7c/560f4c9ff01a584b1ecd1da981e82d0077c079ecba84571b4f623680300e/Janome-0.3.9-py2.py3-none-any.whl (25.1MB)\n",
      "\u001b[K     |████████████████████████████████| 25.1MB 1.8MB/s \n",
      "\u001b[?25hInstalling collected packages: janome\n",
      "Successfully installed janome-0.3.9\n"
     ]
    }
   ],
   "source": [
    "!pip install janome"
   ]
  },
  {
   "cell_type": "code",
   "execution_count": null,
   "metadata": {
    "colab": {},
    "colab_type": "code",
    "id": "SWqs-RagOZna"
   },
   "outputs": [],
   "source": []
  },
  {
   "cell_type": "code",
   "execution_count": null,
   "metadata": {
    "colab": {},
    "colab_type": "code",
    "id": "XtP3pLp_yyyc"
   },
   "outputs": [],
   "source": [
    "# カテゴリ→str→結合→LabelEncoder\n",
    "# ついでにTargetEncodingをかけると面白い事になるかもしれない\n",
    "# XORある場合なら余計にTargetEncodingは強そう。とりあえず試してみる。欠点はあまり出てこないパターンには役に立たない。"
   ]
  }
 ],
 "metadata": {
  "colab": {
   "collapsed_sections": [],
   "name": "TextAnalyzer",
   "provenance": []
  },
  "kernelspec": {
   "display_name": "Python 3",
   "language": "python",
   "name": "python3"
  },
  "language_info": {
   "codemirror_mode": {
    "name": "ipython",
    "version": 3
   },
   "file_extension": ".py",
   "mimetype": "text/x-python",
   "name": "python",
   "nbconvert_exporter": "python",
   "pygments_lexer": "ipython3",
   "version": "3.7.3"
  }
 },
 "nbformat": 4,
 "nbformat_minor": 2
}
